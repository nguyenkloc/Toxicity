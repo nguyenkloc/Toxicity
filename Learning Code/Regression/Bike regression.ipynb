{
 "cells": [
  {
   "cell_type": "code",
   "execution_count": 4,
   "metadata": {},
   "outputs": [
    {
     "name": "stderr",
     "output_type": "stream",
     "text": [
      "/Users/a-an/anaconda3/envs/mpl33/lib/python3.5/site-packages/sklearn/cross_validation.py:41: DeprecationWarning: This module was deprecated in version 0.18 in favor of the model_selection module into which all the refactored classes and functions are moved. Also note that the interface of the new CV iterators are different from that of this module. This module will be removed in 0.20.\n",
      "  \"This module will be removed in 0.20.\", DeprecationWarning)\n"
     ]
    }
   ],
   "source": [
    "import numpy as np\n",
    "import matplotlib.pyplot as plt\n",
    "import pandas as pd\n",
    "\n",
    "import os\n",
    "os.chdir(\"/Users/a-an/Desktop/Vietherb/Code/Machine learning/Bike-Sharing-Dataset\")\n",
    "#Import the data set\n",
    "dataset = pd.read_csv('day.csv')\n",
    "X= dataset.iloc[:,2:-1].values\n",
    "y= dataset.iloc[:,15].values\n",
    "\n",
    "# Encoding categorical data\n",
    "# Encoding the Independant Variable\n",
    "from sklearn.preprocessing import LabelEncoder, OneHotEncoder\n",
    "labelencoder_X = LabelEncoder()\n",
    "X[:,0 ] = labelencoder_X.fit_transform(X[:,0])\n",
    "onehotencoder = OneHotEncoder(categorical_features =[0])\n",
    "X = onehotencoder.fit_transform(X).toarray()\n",
    "\n",
    "#Avoiding the Dummy Variable Trap\n",
    "X = X[:,1:]\n",
    "\n",
    "#Splitting the dataset into the Training set and Test set  \n",
    "from sklearn.cross_validation import train_test_split\n",
    "X_train, X_test, y_train, y_test= train_test_split(X, y, test_size =0.2, random_state=0 )\n",
    "\n",
    "#Fitting the mutiple Linear Regression to the Training set\n",
    "from sklearn.linear_model import LinearRegression\n",
    "regressor = LinearRegression()\n",
    "regressor.fit(X_train, y_train)  \n",
    "\n",
    "#Predicting the Test set results\n",
    "y_pred= regressor.predict(X_test)"
   ]
  },
  {
   "cell_type": "code",
   "execution_count": null,
   "metadata": {},
   "outputs": [],
   "source": []
  }
 ],
 "metadata": {
  "kernelspec": {
   "display_name": "Python 3",
   "language": "python",
   "name": "python3"
  },
  "language_info": {
   "codemirror_mode": {
    "name": "ipython",
    "version": 3
   },
   "file_extension": ".py",
   "mimetype": "text/x-python",
   "name": "python",
   "nbconvert_exporter": "python",
   "pygments_lexer": "ipython3",
   "version": "3.5.1"
  }
 },
 "nbformat": 4,
 "nbformat_minor": 2
}
